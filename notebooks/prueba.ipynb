{
 "cells": [
  {
   "cell_type": "code",
   "execution_count": 2,
   "metadata": {},
   "outputs": [],
   "source": [
    "import os\n",
    "import configparser\n",
    "import pickle\n",
    "import pandas as pd\n",
    "from sklearn.pipeline import Pipeline\n",
    "from sklearn.model_selection import train_test_split\n",
    "from sklearn.preprocessing import StandardScaler\n",
    "from feature_engine.imputation import MeanMedianImputer, CategoricalImputer\n",
    "from feature_engine.encoding import OneHotEncoder, CountFrequencyEncoder\n",
    "from feature_engine.selection import DropFeatures"
   ]
  },
  {
   "cell_type": "code",
   "execution_count": 10,
   "metadata": {},
   "outputs": [],
   "source": [
    "project_path = os.path.dirname(os.getcwd())\n",
    "dataset = pd.read_csv(os.path.join(project_path,\"data\",\"raw\",\"loan_sanction_train.csv\"))\n",
    "\n",
    "# leemos del configparser.\n",
    "config = configparser.ConfigParser()\n",
    "config.read(os.path.join(project_path, \"pipeline.cfg\"))\n",
    "\n",
    "# configuracipon del Pipeline\n",
    "x_features = dataset.drop(labels=config.get('general', 'vars_to_drop').split(','),axis=1)\n",
    "y_target = dataset[config.get('general', 'target')].map({'Y': 1, 'N': 0})\n",
    "\n",
    "x_train, x_test, y_train, y_test = train_test_split(\n",
    "    x_features,y_target, test_size=0.3,shuffle=True,random_state=2025)"
   ]
  },
  {
   "cell_type": "code",
   "execution_count": 14,
   "metadata": {},
   "outputs": [
    {
     "data": {
      "text/plain": [
       "CompletedProcess(args=['python', '../loand_prediction/create_features_and_base_pipeline.py'], returncode=1)"
      ]
     },
     "execution_count": 14,
     "metadata": {},
     "output_type": "execute_result"
    }
   ],
   "source": [
    "import subprocess\n",
    "\n",
    "subprocess.run([\"python\", \"../loand_prediction/create_features_and_base_pipeline.py\"])"
   ]
  }
 ],
 "metadata": {
  "kernelspec": {
   "display_name": "venv-churning-model",
   "language": "python",
   "name": "python3"
  },
  "language_info": {
   "codemirror_mode": {
    "name": "ipython",
    "version": 3
   },
   "file_extension": ".py",
   "mimetype": "text/x-python",
   "name": "python",
   "nbconvert_exporter": "python",
   "pygments_lexer": "ipython3",
   "version": "3.12.7"
  }
 },
 "nbformat": 4,
 "nbformat_minor": 2
}

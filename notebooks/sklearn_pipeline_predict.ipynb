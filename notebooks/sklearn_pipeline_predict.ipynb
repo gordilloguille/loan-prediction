{
 "cells": [
  {
   "cell_type": "code",
   "execution_count": 1,
   "metadata": {},
   "outputs": [],
   "source": [
    "import pandas as pd\n",
    "import pickle\n",
    "import mlflow"
   ]
  },
  {
   "cell_type": "markdown",
   "metadata": {},
   "source": [
    "### Leemos el Pipeline ya con el modelo"
   ]
  },
  {
   "cell_type": "code",
   "execution_count": 2,
   "metadata": {},
   "outputs": [],
   "source": [
    "with open('../artifacts/pipeline_model.pkl', 'rb') as  f:\n",
    "    loan_prediction_model_pipeline = pickle.load(f)"
   ]
  },
  {
   "cell_type": "code",
   "execution_count": 3,
   "metadata": {},
   "outputs": [
    {
     "data": {
      "text/plain": [
       "<Experiment: artifact_location='mlflow-artifacts:/300661418663757843', creation_time=1733810013706, experiment_id='300661418663757843', last_update_time=1733810013706, lifecycle_stage='active', name='Loan Predict Model - Prediccion de Modelos', tags={}>"
      ]
     },
     "execution_count": 3,
     "metadata": {},
     "output_type": "execute_result"
    }
   ],
   "source": [
    "# configuración de servidor\n",
    "mlflow.set_tracking_uri(\"http://127.0.0.1:5000\")\n",
    "mlflow.set_experiment(\"Loan Predict Model - Prediccion de Modelos\")"
   ]
  },
  {
   "cell_type": "code",
   "execution_count": 4,
   "metadata": {},
   "outputs": [
    {
     "name": "stdout",
     "output_type": "stream",
     "text": [
      "Predicciones guardadas en data/predictions/predictions_2024-12-11-23-09-33.csv\n",
      "🏃 View run capricious-moth-440 at: http://127.0.0.1:5000/#/experiments/300661418663757843/runs/549b920f287145cb93125f16041e4b41\n",
      "🧪 View experiment at: http://127.0.0.1:5000/#/experiments/300661418663757843\n"
     ]
    }
   ],
   "source": [
    "with mlflow.start_run():\n",
    "    test_dataset = pd.read_csv('../data/raw/loan_sanction_test.csv')\n",
    "    test_dataset.drop([\"Loan_ID\"], axis=1, inplace=True)\n",
    "    predictions = loan_prediction_model_pipeline.predict(test_dataset)\n",
    "\n",
    "    # Almacenar las predicciones en un archivo CSV con fecha y hora actual\n",
    "    timestamp = pd.Timestamp.now().strftime('%Y-%m-%d-%H-%M-%S')\n",
    "    predictions_df = pd.DataFrame(predictions, columns=['Predicción'])\n",
    "    predictions_df.to_csv(f'../data/predictions/predictions_{timestamp}.csv', index=False)\n",
    "\n",
    "    mlflow.log_artifact(f'../data/predictions/predictions_{timestamp}.csv')\n",
    "    print(f\"Predicciones guardadas en data/predictions/predictions_{timestamp}.csv\")\n",
    "    mlflow.end_run()\n"
   ]
  }
 ],
 "metadata": {
  "kernelspec": {
   "display_name": "venv-churning-model",
   "language": "python",
   "name": "python3"
  },
  "language_info": {
   "codemirror_mode": {
    "name": "ipython",
    "version": 3
   },
   "file_extension": ".py",
   "mimetype": "text/x-python",
   "name": "python",
   "nbconvert_exporter": "python",
   "pygments_lexer": "ipython3",
   "version": "3.12.7"
  }
 },
 "nbformat": 4,
 "nbformat_minor": 2
}
